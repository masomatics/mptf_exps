{
 "cells": [
  {
   "cell_type": "code",
   "execution_count": 36,
   "id": "1f01c614",
   "metadata": {},
   "outputs": [
    {
     "data": {
      "text/plain": [
       "<module 'particle_simulators' from '/Users/masomatics/Library/CloudStorage/GoogleDrive-koyama.masanori@gmail.com/マイドライブ/mptf_exps/particle_simulators.py'>"
      ]
     },
     "execution_count": 36,
     "metadata": {},
     "output_type": "execute_result"
    }
   ],
   "source": [
    "from typing import List, Optional, Tuple, Union\n",
    "import numpy as np\n",
    "import particle_simulators as ps\n",
    "from importlib import reload\n",
    "import visualize as vis\n",
    "reload(vis)\n",
    "reload(ps)"
   ]
  },
  {
   "cell_type": "code",
   "execution_count": 22,
   "id": "743e998b",
   "metadata": {},
   "outputs": [
    {
     "name": "stdout",
     "output_type": "stream",
     "text": [
      "[[1. 0. 0.]\n",
      " [0. 1. 0.]]\n"
     ]
    }
   ],
   "source": [
    "anchor1= np.array([1., 0, 0]) \n",
    "anchor2= np.array([0, 1., 0])\n",
    "\n",
    "anchors = np.vstack((anchor1, anchor2))\n",
    "print(anchors)"
   ]
  },
  {
   "cell_type": "code",
   "execution_count": 49,
   "id": "33668aac",
   "metadata": {},
   "outputs": [
    {
     "name": "stdout",
     "output_type": "stream",
     "text": [
      "Calling simulate_particles with (multi-anchor, population mode):\n",
      "            free_n0=64, M=2, T=15, dt=0.1, d=3, beta=1.0,\n",
      "            half_sph=False, seed=10\n",
      "Anchors (rows):\n",
      " [[1. 0. 0.]\n",
      " [0. 1. 0.]]\n",
      " weights: [2. 2.]\n",
      "(66, 3)\n"
     ]
    }
   ],
   "source": [
    "myseed= 10\n",
    "weight = 2\n",
    "T = 15\n",
    "z_list, t_grid = ps.simulate_particles_with_anchor(\n",
    "        seed=myseed,\n",
    "        anchor=anchors,T=T,\n",
    "        anchor_weight=weight\n",
    "    )\n",
    "print(z_list[-1].shape)"
   ]
  },
  {
   "cell_type": "code",
   "execution_count": 50,
   "id": "494d412f",
   "metadata": {},
   "outputs": [
    {
     "name": "stderr",
     "output_type": "stream",
     "text": [
      "render: 100%|████████████████████████████████████████████████████████████████████████████████████████████████████████████████████████| 151/151 [00:09<00:00, 15.95it/s]\n"
     ]
    },
    {
     "name": "stdout",
     "output_type": "stream",
     "text": [
      "GIF saved → ./figs/sphere/beta=1/17-45-07_dual_anchors_weight2_movie.gif\n"
     ]
    }
   ],
   "source": [
    "vis.render(z_list, 3,  t_grid, m=64, rootdrivepath='./figs', movie=True, fps=10,  title=f\"dual_anchors_weight{weight}\", interpolate=True) "
   ]
  },
  {
   "cell_type": "code",
   "execution_count": 53,
   "id": "faaf7153",
   "metadata": {},
   "outputs": [
    {
     "name": "stdout",
     "output_type": "stream",
     "text": [
      "Calling simulate_particles with (multi-anchor, population mode):\n",
      "            free_n0=64, M=2, T=15, dt=0.1, d=3, beta=1.0,\n",
      "            half_sph=False, seed=10\n",
      "Anchors (rows):\n",
      " [[1. 0. 0.]\n",
      " [0. 1. 0.]]\n",
      " weights: [1. 1.]\n",
      "(66, 3)\n"
     ]
    },
    {
     "name": "stderr",
     "output_type": "stream",
     "text": [
      "render: 100%|████████████████████████████████████████████████████████████████████████████████████████████████████████████████████████| 151/151 [00:07<00:00, 19.52it/s]\n"
     ]
    },
    {
     "name": "stdout",
     "output_type": "stream",
     "text": [
      "GIF saved → ./figs/sphere/beta=1/17-47-11_dual_anchors_weight1_movie.gif\n",
      "Calling simulate_particles with (multi-anchor, population mode):\n",
      "            free_n0=64, M=2, T=15, dt=0.1, d=3, beta=1.0,\n",
      "            half_sph=False, seed=10\n",
      "Anchors (rows):\n",
      " [[1. 0. 0.]\n",
      " [0. 1. 0.]]\n",
      " weights: [2. 2.]\n",
      "(66, 3)\n"
     ]
    },
    {
     "name": "stderr",
     "output_type": "stream",
     "text": [
      "render: 100%|████████████████████████████████████████████████████████████████████████████████████████████████████████████████████████| 151/151 [00:07<00:00, 19.08it/s]\n"
     ]
    },
    {
     "name": "stdout",
     "output_type": "stream",
     "text": [
      "GIF saved → ./figs/sphere/beta=1/17-47-28_dual_anchors_weight2_movie.gif\n",
      "Calling simulate_particles with (multi-anchor, population mode):\n",
      "            free_n0=64, M=2, T=15, dt=0.1, d=3, beta=1.0,\n",
      "            half_sph=False, seed=10\n",
      "Anchors (rows):\n",
      " [[1. 0. 0.]\n",
      " [0. 1. 0.]]\n",
      " weights: [4. 4.]\n",
      "(66, 3)\n"
     ]
    },
    {
     "name": "stderr",
     "output_type": "stream",
     "text": [
      "render: 100%|████████████████████████████████████████████████████████████████████████████████████████████████████████████████████████| 151/151 [00:07<00:00, 19.51it/s]\n"
     ]
    },
    {
     "name": "stdout",
     "output_type": "stream",
     "text": [
      "GIF saved → ./figs/sphere/beta=1/17-47-45_dual_anchors_weight4_movie.gif\n",
      "Calling simulate_particles with (multi-anchor, population mode):\n",
      "            free_n0=64, M=2, T=15, dt=0.1, d=3, beta=1.0,\n",
      "            half_sph=False, seed=10\n",
      "Anchors (rows):\n",
      " [[1. 0. 0.]\n",
      " [0. 1. 0.]]\n",
      " weights: [8. 8.]\n",
      "(66, 3)\n"
     ]
    },
    {
     "name": "stderr",
     "output_type": "stream",
     "text": [
      "render: 100%|████████████████████████████████████████████████████████████████████████████████████████████████████████████████████████| 151/151 [00:08<00:00, 18.28it/s]\n"
     ]
    },
    {
     "name": "stdout",
     "output_type": "stream",
     "text": [
      "GIF saved → ./figs/sphere/beta=1/17-48-02_dual_anchors_weight8_movie.gif\n",
      "Calling simulate_particles with (multi-anchor, population mode):\n",
      "            free_n0=64, M=2, T=15, dt=0.1, d=3, beta=1.0,\n",
      "            half_sph=False, seed=10\n",
      "Anchors (rows):\n",
      " [[1. 0. 0.]\n",
      " [0. 1. 0.]]\n",
      " weights: [16. 16.]\n",
      "(66, 3)\n"
     ]
    },
    {
     "name": "stderr",
     "output_type": "stream",
     "text": [
      "render: 100%|████████████████████████████████████████████████████████████████████████████████████████████████████████████████████████| 151/151 [00:08<00:00, 18.28it/s]\n"
     ]
    },
    {
     "name": "stdout",
     "output_type": "stream",
     "text": [
      "GIF saved → ./figs/sphere/beta=1/17-48-19_dual_anchors_weight16_movie.gif\n"
     ]
    }
   ],
   "source": [
    "myseed= 10\n",
    "weight = 2\n",
    "T = 15\n",
    "\n",
    "anchorweights=[1,2,4,8,16]\n",
    "for weight in anchorweights:\n",
    "    z_list, t_grid = ps.simulate_particles_with_anchor(\n",
    "            seed=myseed,\n",
    "            anchor=anchors,T=T,\n",
    "            anchor_weight=weight\n",
    "        )\n",
    "    print(z_list[-1].shape)\n",
    "    vis.render(z_list, 3,  t_grid, m=64, rootdrivepath='./figs', movie=True, fps=10,  title=f\"dual_anchors_weight{weight}\", interpolate=True) "
   ]
  },
  {
   "cell_type": "code",
   "execution_count": 54,
   "id": "e16ea450",
   "metadata": {},
   "outputs": [
    {
     "name": "stdout",
     "output_type": "stream",
     "text": [
      "66\n",
      "66\n",
      "66\n",
      "66\n",
      "66\n",
      "66\n",
      "66\n",
      "66\n",
      "66\n",
      "66\n",
      "66\n",
      "66\n",
      "66\n",
      "66\n",
      "66\n",
      "66\n",
      "66\n",
      "66\n",
      "66\n",
      "66\n",
      "66\n",
      "66\n",
      "66\n",
      "66\n",
      "66\n",
      "66\n",
      "66\n",
      "66\n",
      "66\n",
      "66\n",
      "66\n",
      "66\n",
      "66\n",
      "66\n",
      "66\n",
      "66\n",
      "66\n",
      "66\n",
      "66\n",
      "66\n",
      "66\n",
      "66\n",
      "66\n",
      "66\n",
      "66\n",
      "66\n",
      "66\n",
      "66\n",
      "66\n",
      "66\n",
      "66\n",
      "66\n",
      "66\n",
      "66\n",
      "66\n",
      "66\n",
      "66\n",
      "66\n",
      "66\n",
      "66\n",
      "66\n",
      "66\n",
      "66\n",
      "66\n",
      "66\n",
      "66\n",
      "66\n",
      "66\n",
      "66\n",
      "66\n",
      "66\n",
      "66\n",
      "66\n",
      "66\n",
      "66\n",
      "66\n",
      "66\n",
      "66\n",
      "66\n",
      "66\n",
      "66\n",
      "66\n",
      "66\n",
      "66\n",
      "66\n",
      "66\n",
      "66\n",
      "66\n",
      "66\n",
      "66\n",
      "66\n",
      "66\n",
      "66\n",
      "66\n",
      "66\n",
      "66\n",
      "66\n",
      "66\n",
      "66\n",
      "66\n",
      "66\n",
      "66\n",
      "66\n",
      "66\n",
      "66\n",
      "66\n",
      "66\n",
      "66\n",
      "66\n",
      "66\n",
      "66\n",
      "66\n",
      "66\n",
      "66\n",
      "66\n",
      "66\n",
      "66\n",
      "66\n",
      "66\n",
      "66\n",
      "66\n",
      "66\n",
      "66\n",
      "66\n",
      "66\n",
      "66\n",
      "66\n",
      "66\n",
      "66\n",
      "66\n",
      "66\n",
      "66\n",
      "66\n",
      "66\n",
      "66\n",
      "66\n",
      "66\n",
      "66\n",
      "66\n",
      "66\n",
      "66\n",
      "66\n",
      "66\n",
      "66\n",
      "66\n",
      "66\n",
      "66\n",
      "66\n",
      "66\n",
      "66\n",
      "66\n"
     ]
    }
   ],
   "source": [
    "for k in range(len(z_list)):\n",
    "    print(len(z_list[k]))"
   ]
  },
  {
   "cell_type": "code",
   "execution_count": null,
   "id": "af45eee3",
   "metadata": {},
   "outputs": [],
   "source": []
  }
 ],
 "metadata": {
  "kernelspec": {
   "display_name": "Python 3 (ipykernel)",
   "language": "python",
   "name": "python3"
  },
  "language_info": {
   "codemirror_mode": {
    "name": "ipython",
    "version": 3
   },
   "file_extension": ".py",
   "mimetype": "text/x-python",
   "name": "python",
   "nbconvert_exporter": "python",
   "pygments_lexer": "ipython3",
   "version": "3.9.13"
  }
 },
 "nbformat": 4,
 "nbformat_minor": 5
}
