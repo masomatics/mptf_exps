{
 "cells": [
  {
   "cell_type": "code",
   "execution_count": 1,
   "id": "06b723f6",
   "metadata": {},
   "outputs": [
    {
     "name": "stdout",
     "output_type": "stream",
     "text": [
      "README.md       simulators.py   Untitled.ipynb  visualize.py\r\n"
     ]
    }
   ],
   "source": [
    "ls"
   ]
  },
  {
   "cell_type": "code",
   "execution_count": 4,
   "id": "a2fe2964",
   "metadata": {},
   "outputs": [
    {
     "data": {
      "text/plain": [
       "<module 'visualize' from '/Users/masomatics/Library/CloudStorage/GoogleDrive-koyama.masanori@gmail.com/マイドライブ/mptf_exps/visualize.py'>"
      ]
     },
     "execution_count": 4,
     "metadata": {},
     "output_type": "execute_result"
    }
   ],
   "source": [
    "import sys\n",
    "sys.path.append('./')\n",
    "import visualize as vis\n",
    "import simulators as sim \n",
    "from importlib import reload \n",
    "import numpy as np\n",
    "reload(vis)"
   ]
  },
  {
   "cell_type": "code",
   "execution_count": 41,
   "id": "183ed880",
   "metadata": {},
   "outputs": [
    {
     "name": "stdout",
     "output_type": "stream",
     "text": [
      "Calling simulate_particles with:\n",
      "    n=64, T=15, dt=0.1, d=3, beta=1, half_sph=False, seed=14\n",
      "[-0.45014624 -0.8926474   0.02311111]\n"
     ]
    }
   ],
   "source": [
    "myseed = 14\n",
    "z, t_grid = sim.simulate_particles(seed=myseed)\n",
    "print(np.mean(z[:, -1, :], axis=0))"
   ]
  },
  {
   "cell_type": "code",
   "execution_count": 42,
   "id": "ab85b258",
   "metadata": {},
   "outputs": [
    {
     "name": "stdout",
     "output_type": "stream",
     "text": [
      "[-0.45014624 -0.8926474   0.02311111]\n",
      "[-0.45014958 -0.89265403  0.02311129]\n"
     ]
    }
   ],
   "source": [
    "pre_anchor = np.mean(z[:, -1, :], axis=0)\n",
    "anchor = pre_anchor / np.linalg.norm(pre_anchor) \n",
    "print(pre_anchor)\n",
    "print(anchor)"
   ]
  },
  {
   "cell_type": "code",
   "execution_count": 45,
   "id": "07d2837e",
   "metadata": {},
   "outputs": [
    {
     "name": "stdout",
     "output_type": "stream",
     "text": [
      "Calling simulate_particles with:\n",
      "    n=64, T=200, dt=0.1, d=3, beta=1, half_sph=False, seed=14\n",
      "Anchor point: [-0.45014958 -0.89265403  0.02311129], weight: 1.0\n",
      "[[-0.45350202 -0.89103621  0.01975848]\n",
      " [-0.45350202 -0.89103621  0.01975848]\n",
      " [-0.45350202 -0.89103621  0.01975848]\n",
      " [-0.45350202 -0.89103621  0.01975848]\n",
      " [-0.45350202 -0.89103621  0.01975848]\n",
      " [-0.45350202 -0.89103621  0.01975848]\n",
      " [-0.45350202 -0.89103621  0.01975848]\n",
      " [-0.45350202 -0.89103621  0.01975848]\n",
      " [-0.45350202 -0.89103621  0.01975848]\n",
      " [-0.45014958 -0.89265403  0.02311129]]\n",
      "(65, 2001, 3)\n"
     ]
    }
   ],
   "source": [
    "reload(sim)\n",
    "\n",
    "z2, t_grid2 = sim.simulate_particles_with_anchor(seed=myseed, anchor=anchor, T=200, anchor_weight=1.0 )\n",
    "\n",
    "print(z2[-10:, -1, :])\n",
    "print(z2.shape)"
   ]
  },
  {
   "cell_type": "code",
   "execution_count": 25,
   "id": "b9082f5d",
   "metadata": {},
   "outputs": [
    {
     "name": "stderr",
     "output_type": "stream",
     "text": [
      "render: 100%|████████████████████████████████████████████████████████████████████████████████████████████████████████████████████████| 151/151 [00:16<00:00,  9.04it/s]\n"
     ]
    },
    {
     "name": "stdout",
     "output_type": "stream",
     "text": [
      "GIF saved → ./figs/sphere/beta=1/09-43-53_movie.gif\n"
     ]
    }
   ],
   "source": [
    "reload(vis)\n",
    "vis.render(z2, 3, t_grid2,rootdrivepath='./figs',\n",
    "    color='#3658bf',\n",
    "    movie=True,\n",
    "    fps=10,\n",
    "    m=64,\n",
    "    color_rest='#d94f4f',\n",
    "    interpolate=True)"
   ]
  },
  {
   "cell_type": "code",
   "execution_count": 58,
   "id": "ed50ef0e",
   "metadata": {},
   "outputs": [],
   "source": [
    "A = np.eye(3)\n",
    "anchor_weight= 1.0\n",
    "z4Attn = z[:, 0].copy()  # Copy current positions for attention calculation\n",
    "z4Attn[-1] = z4Attn[-1] * anchor_weight # Scale anchor point for attention   \n",
    "Az           = (A @ z4Attn.T).T"
   ]
  },
  {
   "cell_type": "code",
   "execution_count": 59,
   "id": "d69dded1",
   "metadata": {},
   "outputs": [],
   "source": [
    "Az_copy = (A @ z[:, 0].T).T"
   ]
  },
  {
   "cell_type": "code",
   "execution_count": 60,
   "id": "9ba1090d",
   "metadata": {},
   "outputs": [
    {
     "data": {
      "text/plain": [
       "True"
      ]
     },
     "execution_count": 60,
     "metadata": {},
     "output_type": "execute_result"
    }
   ],
   "source": [
    "(Az == Az_copy).all()"
   ]
  },
  {
   "cell_type": "code",
   "execution_count": 62,
   "id": "f62d2df1",
   "metadata": {},
   "outputs": [],
   "source": [
    "\n",
    "from typing import List, Optional, Tuple, Union\n",
    "\n",
    "\n",
    "def simple_great_circle_path(\n",
    "    *, T: float = 15.0, dt: float = 0.1, d: int = 3, speed: float = 1.0\n",
    ") -> Tuple[np.ndarray, np.ndarray]:\n",
    "    \"\"\"\n",
    "    Single-particle great-circle trajectory on the unit d-sphere.\n",
    "\n",
    "    Returns\n",
    "    -------\n",
    "    interject_ts : ndarray, shape (num_steps, d)\n",
    "        The position at every time step.\n",
    "    t_grid       : ndarray, shape (num_steps,)\n",
    "        Matching time stamps.\n",
    "    \"\"\"\n",
    "    assert d >= 2, \"d must be at least 2 for a great circle\"\n",
    "    num_steps = int(T / dt) + 1\n",
    "    t_grid = np.linspace(0.0, T, num_steps)\n",
    "\n",
    "    # pre-allocate for speed; (num_steps, d)\n",
    "    z = np.zeros((num_steps, d))\n",
    "    z[:, 0] = np.cos(speed * t_grid)   # x1\n",
    "    z[:, 1] = np.sin(speed * t_grid)   # x2\n",
    "    # remaining coordinates stay zero\n",
    "\n",
    "    return z, t_grid"
   ]
  },
  {
   "cell_type": "code",
   "execution_count": 64,
   "id": "5ec1acb5",
   "metadata": {},
   "outputs": [
    {
     "data": {
      "text/plain": [
       "([array([[1., 0., 0.]]),\n",
       "  array([[0.99500417, 0.09983342, 0.        ]]),\n",
       "  array([[0.98006658, 0.19866933, 0.        ]]),\n",
       "  array([[0.95533649, 0.29552021, 0.        ]]),\n",
       "  array([[0.92106099, 0.38941834, 0.        ]]),\n",
       "  array([[0.87758256, 0.47942554, 0.        ]]),\n",
       "  array([[0.82533561, 0.56464247, 0.        ]]),\n",
       "  array([[0.76484219, 0.64421769, 0.        ]]),\n",
       "  array([[0.69670671, 0.71735609, 0.        ]]),\n",
       "  array([[0.62160997, 0.78332691, 0.        ]]),\n",
       "  array([[0.54030231, 0.84147098, 0.        ]]),\n",
       "  array([[0.45359612, 0.89120736, 0.        ]]),\n",
       "  array([[0.36235775, 0.93203909, 0.        ]]),\n",
       "  array([[0.26749883, 0.96355819, 0.        ]]),\n",
       "  array([[0.16996714, 0.98544973, 0.        ]]),\n",
       "  array([[0.0707372 , 0.99749499, 0.        ]]),\n",
       "  array([[-0.02919952,  0.9995736 ,  0.        ]]),\n",
       "  array([[-0.12884449,  0.99166481,  0.        ]]),\n",
       "  array([[-0.22720209,  0.97384763,  0.        ]]),\n",
       "  array([[-0.32328957,  0.94630009,  0.        ]]),\n",
       "  array([[-0.41614684,  0.90929743,  0.        ]]),\n",
       "  array([[-0.5048461 ,  0.86320937,  0.        ]]),\n",
       "  array([[-0.58850112,  0.8084964 ,  0.        ]]),\n",
       "  array([[-0.66627602,  0.74570521,  0.        ]]),\n",
       "  array([[-0.73739372,  0.67546318,  0.        ]]),\n",
       "  array([[-0.80114362,  0.59847214,  0.        ]]),\n",
       "  array([[-0.85688875,  0.51550137,  0.        ]]),\n",
       "  array([[-0.90407214,  0.42737988,  0.        ]]),\n",
       "  array([[-0.94222234,  0.33498815,  0.        ]]),\n",
       "  array([[-0.97095817,  0.23924933,  0.        ]]),\n",
       "  array([[-0.9899925 ,  0.14112001,  0.        ]]),\n",
       "  array([[-0.99913515,  0.04158066,  0.        ]]),\n",
       "  array([[-0.99829478, -0.05837414,  0.        ]]),\n",
       "  array([[-0.98747977, -0.15774569,  0.        ]]),\n",
       "  array([[-0.96679819, -0.2555411 ,  0.        ]]),\n",
       "  array([[-0.93645669, -0.35078323,  0.        ]]),\n",
       "  array([[-0.89675842, -0.44252044,  0.        ]]),\n",
       "  array([[-0.84810003, -0.52983614,  0.        ]]),\n",
       "  array([[-0.79096771, -0.61185789,  0.        ]]),\n",
       "  array([[-0.7259323 , -0.68776616,  0.        ]]),\n",
       "  array([[-0.65364362, -0.7568025 ,  0.        ]]),\n",
       "  array([[-0.57482395, -0.81827711,  0.        ]]),\n",
       "  array([[-0.49026082, -0.87157577,  0.        ]]),\n",
       "  array([[-0.40079917, -0.91616594,  0.        ]]),\n",
       "  array([[-0.30733287, -0.95160207,  0.        ]]),\n",
       "  array([[-0.2107958 , -0.97753012,  0.        ]]),\n",
       "  array([[-0.11215253, -0.993691  ,  0.        ]]),\n",
       "  array([[-0.01238866, -0.99992326,  0.        ]]),\n",
       "  array([[ 0.08749898, -0.99616461,  0.        ]]),\n",
       "  array([[ 0.18651237, -0.98245261,  0.        ]]),\n",
       "  array([[ 0.28366219, -0.95892427,  0.        ]]),\n",
       "  array([[ 0.37797774, -0.92581468,  0.        ]]),\n",
       "  array([[ 0.46851667, -0.88345466,  0.        ]]),\n",
       "  array([[ 0.55437434, -0.83226744,  0.        ]]),\n",
       "  array([[ 0.63469288, -0.77276449,  0.        ]]),\n",
       "  array([[ 0.70866977, -0.70554033,  0.        ]]),\n",
       "  array([[ 0.77556588, -0.63126664,  0.        ]]),\n",
       "  array([[ 0.83471278, -0.55068554,  0.        ]]),\n",
       "  array([[ 0.88551952, -0.46460218,  0.        ]]),\n",
       "  array([[ 0.92747843, -0.37387666,  0.        ]]),\n",
       "  array([[ 0.96017029, -0.2794155 ,  0.        ]]),\n",
       "  array([[ 0.98326844, -0.1821625 ,  0.        ]]),\n",
       "  array([[ 0.9965421, -0.0830894,  0.       ]]),\n",
       "  array([[0.99985864, 0.0168139 , 0.        ]]),\n",
       "  array([[0.99318492, 0.1165492 , 0.        ]]),\n",
       "  array([[0.97658763, 0.21511999, 0.        ]]),\n",
       "  array([[0.95023259, 0.31154136, 0.        ]]),\n",
       "  array([[0.91438315, 0.40484992, 0.        ]]),\n",
       "  array([[0.86939749, 0.49411335, 0.        ]]),\n",
       "  array([[0.8157251 , 0.57843976, 0.        ]]),\n",
       "  array([[0.75390225, 0.6569866 , 0.        ]]),\n",
       "  array([[0.68454667, 0.72896904, 0.        ]]),\n",
       "  array([[0.60835131, 0.79366786, 0.        ]]),\n",
       "  array([[0.52607752, 0.85043662, 0.        ]]),\n",
       "  array([[0.43854733, 0.8987081 , 0.        ]]),\n",
       "  array([[0.34663532, 0.93799998, 0.        ]]),\n",
       "  array([[0.25125984, 0.96791967, 0.        ]]),\n",
       "  array([[0.15337386, 0.98816823, 0.        ]]),\n",
       "  array([[0.05395542, 0.99854335, 0.        ]]),\n",
       "  array([[-0.04600213,  0.99894134,  0.        ]]),\n",
       "  array([[-0.14550003,  0.98935825,  0.        ]]),\n",
       "  array([[-0.24354415,  0.96988981,  0.        ]]),\n",
       "  array([[-0.33915486,  0.94073056,  0.        ]]),\n",
       "  array([[-0.43137684,  0.90217183,  0.        ]]),\n",
       "  array([[-0.51928865,  0.85459891,  0.        ]]),\n",
       "  array([[-0.6020119 ,  0.79848711,  0.        ]]),\n",
       "  array([[-0.67872005,  0.7343971 ,  0.        ]]),\n",
       "  array([[-0.74864665,  0.66296923,  0.        ]]),\n",
       "  array([[-0.81109301,  0.58491719,  0.        ]]),\n",
       "  array([[-0.86543521,  0.50102086,  0.        ]]),\n",
       "  array([[-0.91113026,  0.41211849,  0.        ]]),\n",
       "  array([[-0.9477216 ,  0.31909836,  0.        ]]),\n",
       "  array([[-0.97484362,  0.22288991,  0.        ]]),\n",
       "  array([[-0.99222533,  0.12445442,  0.        ]]),\n",
       "  array([[-0.99969304,  0.02477543,  0.        ]]),\n",
       "  array([[-0.99717216, -0.07515112,  0.        ]]),\n",
       "  array([[-0.98468786, -0.17432678,  0.        ]]),\n",
       "  array([[-0.96236488, -0.27176063,  0.        ]]),\n",
       "  array([[-0.93042627, -0.36647913,  0.        ]]),\n",
       "  array([[-0.88919115, -0.45753589,  0.        ]]),\n",
       "  array([[-0.83907153, -0.54402111,  0.        ]]),\n",
       "  array([[-0.78056818, -0.62507065,  0.        ]]),\n",
       "  array([[-0.71426565, -0.69987469,  0.        ]]),\n",
       "  array([[-0.64082642, -0.76768581,  0.        ]]),\n",
       "  array([[-0.56098426, -0.82782647,  0.        ]]),\n",
       "  array([[-0.47553693, -0.87969576,  0.        ]]),\n",
       "  array([[-0.38533819, -0.92277542,  0.        ]]),\n",
       "  array([[-0.29128928, -0.95663502,  0.        ]]),\n",
       "  array([[-0.19432991, -0.98093623,  0.        ]]),\n",
       "  array([[-0.09542885, -0.99543625,  0.        ]]),\n",
       "  array([[ 0.0044257 , -0.99999021,  0.        ]]),\n",
       "  array([[ 0.10423603, -0.99455259,  0.        ]]),\n",
       "  array([[ 0.20300486, -0.97917773,  0.        ]]),\n",
       "  array([[ 0.29974534, -0.95401925,  0.        ]]),\n",
       "  array([[ 0.39349087, -0.91932853,  0.        ]]),\n",
       "  array([[ 0.48330476, -0.87545217,  0.        ]]),\n",
       "  array([[ 0.56828963, -0.82282859,  0.        ]]),\n",
       "  array([[ 0.64759634, -0.76198358,  0.        ]]),\n",
       "  array([[ 0.72043248, -0.69352508,  0.        ]]),\n",
       "  array([[ 0.7860703 , -0.61813711,  0.        ]]),\n",
       "  array([[ 0.84385396, -0.53657292,  0.        ]]),\n",
       "  array([[ 0.89320611, -0.44964746,  0.        ]]),\n",
       "  array([[ 0.93363364, -0.35822928,  0.        ]]),\n",
       "  array([[ 0.96473262, -0.26323179,  0.        ]]),\n",
       "  array([[ 0.9861923 , -0.16560418,  0.        ]]),\n",
       "  array([[ 0.99779828, -0.0663219 ,  0.        ]]),\n",
       "  array([[0.99943459, 0.03362305, 0.        ]]),\n",
       "  array([[0.99108487, 0.13323204, 0.        ]]),\n",
       "  array([[0.97283257, 0.23150983, 0.        ]]),\n",
       "  array([[0.94486004, 0.32747444, 0.        ]]),\n",
       "  array([[0.90744678, 0.42016704, 0.        ]]),\n",
       "  array([[0.86096662, 0.50866146, 0.        ]]),\n",
       "  array([[0.80588396, 0.59207351, 0.        ]]),\n",
       "  array([[0.74274917, 0.66956976, 0.        ]]),\n",
       "  array([[0.67219308, 0.74037589, 0.        ]]),\n",
       "  array([[0.59492066, 0.80378443, 0.        ]]),\n",
       "  array([[0.51170399, 0.85916181, 0.        ]]),\n",
       "  array([[0.42337454, 0.90595474, 0.        ]]),\n",
       "  array([[0.33081488, 0.94369567, 0.        ]]),\n",
       "  array([[0.23494982, 0.9720075 , 0.        ]]),\n",
       "  array([[0.13673722, 0.99060736, 0.        ]]),\n",
       "  array([[0.03715838, 0.99930939, 0.        ]]),\n",
       "  array([[-0.06279172,  0.99802665,  0.        ]]),\n",
       "  array([[-0.16211444,  0.98677196,  0.        ]]),\n",
       "  array([[-0.25981736,  0.96565778,  0.        ]]),\n",
       "  array([[-0.35492427,  0.93489506,  0.        ]]),\n",
       "  array([[-0.44648489,  0.89479117,  0.        ]]),\n",
       "  array([[-0.53358439,  0.84574683,  0.        ]]),\n",
       "  array([[-0.61535248,  0.78825207,  0.        ]]),\n",
       "  array([[-0.69097218,  0.72288135,  0.        ]]),\n",
       "  array([[-0.75968791,  0.65028784,  0.        ]])],\n",
       " array([ 0. ,  0.1,  0.2,  0.3,  0.4,  0.5,  0.6,  0.7,  0.8,  0.9,  1. ,\n",
       "         1.1,  1.2,  1.3,  1.4,  1.5,  1.6,  1.7,  1.8,  1.9,  2. ,  2.1,\n",
       "         2.2,  2.3,  2.4,  2.5,  2.6,  2.7,  2.8,  2.9,  3. ,  3.1,  3.2,\n",
       "         3.3,  3.4,  3.5,  3.6,  3.7,  3.8,  3.9,  4. ,  4.1,  4.2,  4.3,\n",
       "         4.4,  4.5,  4.6,  4.7,  4.8,  4.9,  5. ,  5.1,  5.2,  5.3,  5.4,\n",
       "         5.5,  5.6,  5.7,  5.8,  5.9,  6. ,  6.1,  6.2,  6.3,  6.4,  6.5,\n",
       "         6.6,  6.7,  6.8,  6.9,  7. ,  7.1,  7.2,  7.3,  7.4,  7.5,  7.6,\n",
       "         7.7,  7.8,  7.9,  8. ,  8.1,  8.2,  8.3,  8.4,  8.5,  8.6,  8.7,\n",
       "         8.8,  8.9,  9. ,  9.1,  9.2,  9.3,  9.4,  9.5,  9.6,  9.7,  9.8,\n",
       "         9.9, 10. , 10.1, 10.2, 10.3, 10.4, 10.5, 10.6, 10.7, 10.8, 10.9,\n",
       "        11. , 11.1, 11.2, 11.3, 11.4, 11.5, 11.6, 11.7, 11.8, 11.9, 12. ,\n",
       "        12.1, 12.2, 12.3, 12.4, 12.5, 12.6, 12.7, 12.8, 12.9, 13. , 13.1,\n",
       "        13.2, 13.3, 13.4, 13.5, 13.6, 13.7, 13.8, 13.9, 14. , 14.1, 14.2,\n",
       "        14.3, 14.4, 14.5, 14.6, 14.7, 14.8, 14.9, 15. ]))"
      ]
     },
     "execution_count": 64,
     "metadata": {},
     "output_type": "execute_result"
    }
   ],
   "source": [
    "simple_great_circle_path()"
   ]
  },
  {
   "cell_type": "code",
   "execution_count": null,
   "id": "288d6b93",
   "metadata": {},
   "outputs": [],
   "source": []
  }
 ],
 "metadata": {
  "kernelspec": {
   "display_name": "Python 3 (ipykernel)",
   "language": "python",
   "name": "python3"
  },
  "language_info": {
   "codemirror_mode": {
    "name": "ipython",
    "version": 3
   },
   "file_extension": ".py",
   "mimetype": "text/x-python",
   "name": "python",
   "nbconvert_exporter": "python",
   "pygments_lexer": "ipython3",
   "version": "3.9.13"
  }
 },
 "nbformat": 4,
 "nbformat_minor": 5
}
