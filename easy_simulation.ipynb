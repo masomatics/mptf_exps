{
 "cells": [
  {
   "cell_type": "code",
   "execution_count": 1,
   "id": "06b723f6",
   "metadata": {},
   "outputs": [
    {
     "name": "stdout",
     "output_type": "stream",
     "text": [
      "README.md       simulators.py   Untitled.ipynb  visualize.py\r\n"
     ]
    }
   ],
   "source": [
    "ls"
   ]
  },
  {
   "cell_type": "code",
   "execution_count": 4,
   "id": "a2fe2964",
   "metadata": {},
   "outputs": [
    {
     "data": {
      "text/plain": [
       "<module 'visualize' from '/Users/masomatics/Library/CloudStorage/GoogleDrive-koyama.masanori@gmail.com/マイドライブ/mptf_exps/visualize.py'>"
      ]
     },
     "execution_count": 4,
     "metadata": {},
     "output_type": "execute_result"
    }
   ],
   "source": [
    "import sys\n",
    "sys.path.append('./')\n",
    "import visualize as vis\n",
    "import simulators as sim \n",
    "from importlib import reload \n",
    "import numpy as np\n",
    "reload(vis)"
   ]
  },
  {
   "cell_type": "code",
   "execution_count": 41,
   "id": "183ed880",
   "metadata": {},
   "outputs": [
    {
     "name": "stdout",
     "output_type": "stream",
     "text": [
      "Calling simulate_particles with:\n",
      "    n=64, T=15, dt=0.1, d=3, beta=1, half_sph=False, seed=14\n",
      "[-0.45014624 -0.8926474   0.02311111]\n"
     ]
    }
   ],
   "source": [
    "myseed = 14\n",
    "z, t_grid = sim.simulate_particles(seed=myseed)\n",
    "print(np.mean(z[:, -1, :], axis=0))"
   ]
  },
  {
   "cell_type": "code",
   "execution_count": 42,
   "id": "ab85b258",
   "metadata": {},
   "outputs": [
    {
     "name": "stdout",
     "output_type": "stream",
     "text": [
      "[-0.45014624 -0.8926474   0.02311111]\n",
      "[-0.45014958 -0.89265403  0.02311129]\n"
     ]
    }
   ],
   "source": [
    "pre_anchor = np.mean(z[:, -1, :], axis=0)\n",
    "anchor = pre_anchor / np.linalg.norm(pre_anchor) \n",
    "print(pre_anchor)\n",
    "print(anchor)"
   ]
  },
  {
   "cell_type": "code",
   "execution_count": 45,
   "id": "07d2837e",
   "metadata": {},
   "outputs": [
    {
     "name": "stdout",
     "output_type": "stream",
     "text": [
      "Calling simulate_particles with:\n",
      "    n=64, T=200, dt=0.1, d=3, beta=1, half_sph=False, seed=14\n",
      "Anchor point: [-0.45014958 -0.89265403  0.02311129], weight: 1.0\n",
      "[[-0.45350202 -0.89103621  0.01975848]\n",
      " [-0.45350202 -0.89103621  0.01975848]\n",
      " [-0.45350202 -0.89103621  0.01975848]\n",
      " [-0.45350202 -0.89103621  0.01975848]\n",
      " [-0.45350202 -0.89103621  0.01975848]\n",
      " [-0.45350202 -0.89103621  0.01975848]\n",
      " [-0.45350202 -0.89103621  0.01975848]\n",
      " [-0.45350202 -0.89103621  0.01975848]\n",
      " [-0.45350202 -0.89103621  0.01975848]\n",
      " [-0.45014958 -0.89265403  0.02311129]]\n",
      "(65, 2001, 3)\n"
     ]
    }
   ],
   "source": [
    "reload(sim)\n",
    "\n",
    "z2, t_grid2 = sim.simulate_particles_with_anchor(seed=myseed, anchor=anchor, T=200, anchor_weight=1.0 )\n",
    "\n",
    "print(z2[-10:, -1, :])\n",
    "print(z2.shape)"
   ]
  },
  {
   "cell_type": "code",
   "execution_count": 25,
   "id": "b9082f5d",
   "metadata": {},
   "outputs": [
    {
     "name": "stderr",
     "output_type": "stream",
     "text": [
      "render: 100%|████████████████████████████████████████████████████████████████████████████████████████████████████████████████████████| 151/151 [00:16<00:00,  9.04it/s]\n"
     ]
    },
    {
     "name": "stdout",
     "output_type": "stream",
     "text": [
      "GIF saved → ./figs/sphere/beta=1/09-43-53_movie.gif\n"
     ]
    }
   ],
   "source": [
    "reload(vis)\n",
    "vis.render(z2, 3, t_grid2,rootdrivepath='./figs',\n",
    "    color='#3658bf',\n",
    "    movie=True,\n",
    "    fps=10,\n",
    "    m=64,\n",
    "    color_rest='#d94f4f',\n",
    "    interpolate=True)"
   ]
  },
  {
   "cell_type": "code",
   "execution_count": null,
   "id": "3436972c",
   "metadata": {},
   "outputs": [],
   "source": []
  }
 ],
 "metadata": {
  "kernelspec": {
   "display_name": "Python 3 (ipykernel)",
   "language": "python",
   "name": "python3"
  },
  "language_info": {
   "codemirror_mode": {
    "name": "ipython",
    "version": 3
   },
   "file_extension": ".py",
   "mimetype": "text/x-python",
   "name": "python",
   "nbconvert_exporter": "python",
   "pygments_lexer": "ipython3",
   "version": "3.9.13"
  }
 },
 "nbformat": 4,
 "nbformat_minor": 5
}
